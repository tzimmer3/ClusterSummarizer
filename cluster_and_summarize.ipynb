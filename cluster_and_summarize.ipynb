{
 "cells": [
  {
   "cell_type": "code",
   "execution_count": 1,
   "metadata": {},
   "outputs": [],
   "source": [
    "import pandas as pd\n",
    "import matplotlib.pyplot as plt\n",
    "import seaborn as sns\n",
    "\n",
    "# Clustering\n",
    "import hdbscan\n",
    "# Dim reduction\n",
    "from sklearn.manifold import TSNE\n",
    "# Summarization\n",
    "\n",
    "\n",
    "# src\n",
    "from src.embed import get_embeddings"
   ]
  },
  {
   "cell_type": "code",
   "execution_count": 2,
   "metadata": {},
   "outputs": [],
   "source": [
    "filepath = \"C:\\\\Users\\\\hlmq\\\\OneDrive - Chevron\\\\Desktop\\\\Projects\\\\Tech Abstracts\\\\data\\\\data-wordclouds\\\\\"\n",
    "filename = \"2023_all_abstracts.txt\"\n",
    "\n",
    "df = pd.read_csv(str(filepath)+str(filename))"
   ]
  },
  {
   "cell_type": "code",
   "execution_count": 3,
   "metadata": {},
   "outputs": [],
   "source": [
    "## VARIABLES\n",
    "\n",
    "TEXT_FIELD = \"clean_abstract\""
   ]
  },
  {
   "cell_type": "code",
   "execution_count": 4,
   "metadata": {},
   "outputs": [],
   "source": [
    "del df['Unnamed: 0']"
   ]
  },
  {
   "cell_type": "code",
   "execution_count": 5,
   "metadata": {},
   "outputs": [
    {
     "data": {
      "text/html": [
       "<div>\n",
       "<style scoped>\n",
       "    .dataframe tbody tr th:only-of-type {\n",
       "        vertical-align: middle;\n",
       "    }\n",
       "\n",
       "    .dataframe tbody tr th {\n",
       "        vertical-align: top;\n",
       "    }\n",
       "\n",
       "    .dataframe thead th {\n",
       "        text-align: right;\n",
       "    }\n",
       "</style>\n",
       "<table border=\"1\" class=\"dataframe\">\n",
       "  <thead>\n",
       "    <tr style=\"text-align: right;\">\n",
       "      <th></th>\n",
       "      <th>clean_abstract</th>\n",
       "    </tr>\n",
       "  </thead>\n",
       "  <tbody>\n",
       "    <tr>\n",
       "      <th>0</th>\n",
       "      <td>methane emission reductions near-term greenhou...</td>\n",
       "    </tr>\n",
       "    <tr>\n",
       "      <th>1</th>\n",
       "      <td>embed discrete fracture ( edfm ) proprietary f...</td>\n",
       "    </tr>\n",
       "    <tr>\n",
       "      <th>2</th>\n",
       "      <td>aim leverage strengths deliver affordable reli...</td>\n",
       "    </tr>\n",
       "    <tr>\n",
       "      <th>3</th>\n",
       "      <td>tech center pe stakeholders 7 units successful...</td>\n",
       "    </tr>\n",
       "    <tr>\n",
       "      <th>4</th>\n",
       "      <td>deployment fit-for-purpose technology-driven s...</td>\n",
       "    </tr>\n",
       "  </tbody>\n",
       "</table>\n",
       "</div>"
      ],
      "text/plain": [
       "                                      clean_abstract\n",
       "0  methane emission reductions near-term greenhou...\n",
       "1  embed discrete fracture ( edfm ) proprietary f...\n",
       "2  aim leverage strengths deliver affordable reli...\n",
       "3  tech center pe stakeholders 7 units successful...\n",
       "4  deployment fit-for-purpose technology-driven s..."
      ]
     },
     "execution_count": 5,
     "metadata": {},
     "output_type": "execute_result"
    }
   ],
   "source": [
    "df.head()"
   ]
  },
  {
   "cell_type": "markdown",
   "metadata": {},
   "source": [
    "## Embed Text"
   ]
  },
  {
   "cell_type": "code",
   "execution_count": 6,
   "metadata": {},
   "outputs": [],
   "source": [
    "# Generate embeddings\n",
    "abstracts = df[TEXT_FIELD].to_list()\n",
    "embeddings = get_embeddings(abstracts)"
   ]
  },
  {
   "cell_type": "markdown",
   "metadata": {},
   "source": [
    "## Cluster Text"
   ]
  },
  {
   "cell_type": "code",
   "execution_count": 7,
   "metadata": {},
   "outputs": [
    {
     "data": {
      "text/plain": [
       "HDBSCAN(min_cluster_size=2, min_samples=2)"
      ]
     },
     "execution_count": 7,
     "metadata": {},
     "output_type": "execute_result"
    }
   ],
   "source": [
    "hdb = hdbscan.HDBSCAN(min_samples=2, min_cluster_size=2).fit(embeddings)\n",
    "\n",
    "hdb.fit(embeddings)"
   ]
  },
  {
   "cell_type": "code",
   "execution_count": 19,
   "metadata": {},
   "outputs": [
    {
     "data": {
      "text/plain": [
       " 0    72\n",
       "-1    36\n",
       " 1     2\n",
       "Name: Cluster Label, dtype: int64"
      ]
     },
     "execution_count": 19,
     "metadata": {},
     "output_type": "execute_result"
    }
   ],
   "source": [
    "df['Cluster Label'] = hdb.labels_\n",
    "df['Cluster Label'].value_counts()"
   ]
  },
  {
   "cell_type": "markdown",
   "metadata": {},
   "source": [
    "## Reduce Embedding Dimensions"
   ]
  },
  {
   "cell_type": "code",
   "execution_count": 12,
   "metadata": {},
   "outputs": [
    {
     "name": "stderr",
     "output_type": "stream",
     "text": [
      "c:\\ProgramData\\Miniconda3\\envs\\nlp_cluster\\lib\\site-packages\\sklearn\\manifold\\_t_sne.py:790: FutureWarning: The default learning rate in TSNE will change from 200.0 to 'auto' in 1.2.\n",
      "  warnings.warn(\n",
      "c:\\ProgramData\\Miniconda3\\envs\\nlp_cluster\\lib\\site-packages\\sklearn\\manifold\\_t_sne.py:982: FutureWarning: The PCA initialization in TSNE will change to have the standard deviation of PC1 equal to 1e-4 in 1.2. This will ensure better convergence.\n",
      "  warnings.warn(\n"
     ]
    }
   ],
   "source": [
    "tsne = TSNE(\n",
    "    n_components=2,\n",
    "    perplexity=50,\n",
    "    n_iter=1000,\n",
    "    init = \"pca\",\n",
    "    random_state = 123\n",
    ")\n",
    "reduced_embeddings = tsne.fit_transform(embeddings)"
   ]
  },
  {
   "cell_type": "code",
   "execution_count": 15,
   "metadata": {},
   "outputs": [
    {
     "data": {
      "text/plain": [
       "array([ 4.27394420e-01, -6.24759674e-01, -9.27639902e-02,  1.97117364e+00,\n",
       "       -1.97288200e-01,  1.34472859e+00,  1.86154842e+00, -2.12776870e-01,\n",
       "        2.87934732e+00,  2.88501215e+00,  3.46690631e+00,  2.97690105e+00,\n",
       "        4.00023794e+00,  2.07449347e-01,  4.65621471e+00,  3.11710310e+00,\n",
       "       -5.26220381e-01,  2.27910256e+00,  1.03436232e+00,  3.16973281e+00,\n",
       "        3.10125303e+00,  3.48498178e+00,  4.44205731e-01,  2.91644835e+00,\n",
       "        1.56740463e+00,  4.14048815e+00,  3.06616282e+00,  1.12059104e+00,\n",
       "       -1.08610466e-01,  1.88568389e+00,  1.19310915e+00,  2.01340139e-01,\n",
       "        1.37467206e+00,  5.28189480e-01, -1.17823243e+00, -1.13381386e+00,\n",
       "       -1.04252827e+00, -1.77770969e-04,  1.08536057e-01,  1.44187021e+00,\n",
       "        2.03803182e+00,  1.87157977e+00, -1.71114159e+00,  1.71050954e+00,\n",
       "        4.09153318e+00,  1.83929920e+00, -6.63765669e-02, -3.24256033e-01,\n",
       "        3.60503340e+00, -8.55002582e-01, -6.49778992e-02,  1.02774791e-01,\n",
       "        2.21783713e-01, -5.45962691e-01,  1.29434550e+00,  4.45381612e-01,\n",
       "        3.20150065e+00,  2.12391829e+00, -1.20259154e+00,  3.88243985e+00,\n",
       "        2.11224794e-01,  3.88615698e-01,  2.28749824e+00,  6.53515220e-01,\n",
       "        1.06630862e+00,  6.85410440e-01, -2.62421012e-01,  1.52142775e+00,\n",
       "        1.54191804e+00, -2.69036680e-01, -1.75784123e+00, -8.12085420e-02,\n",
       "        2.29006433e+00, -2.08058476e+00,  3.52060413e+00, -6.67921364e-01,\n",
       "        3.64570975e+00,  2.87965775e+00,  4.60090923e+00, -5.92977464e-01,\n",
       "        2.39054656e+00, -3.49462986e-01, -9.45556402e-01,  2.12208891e+00,\n",
       "        2.75587589e-01,  2.68332744e+00, -1.89404678e+00,  2.71765924e+00,\n",
       "        1.40175283e+00,  3.30784440e+00,  3.48361254e+00, -5.13317764e-01,\n",
       "       -1.84388071e-01,  7.51498818e-01, -2.95161188e-01, -7.42563009e-02,\n",
       "        3.84269565e-01,  1.52879596e+00,  2.44828391e+00,  1.11871314e+00,\n",
       "        3.07607508e+00,  1.66325700e+00, -1.85883388e-01,  2.19409561e+00,\n",
       "       -1.08276524e-01,  3.33727694e+00,  2.84391141e+00,  8.51383686e-01,\n",
       "       -1.89333153e+00,  1.96690059e+00], dtype=float32)"
      ]
     },
     "execution_count": 15,
     "metadata": {},
     "output_type": "execute_result"
    }
   ],
   "source": [
    "reduced_embeddings[:,0]"
   ]
  },
  {
   "cell_type": "code",
   "execution_count": 18,
   "metadata": {},
   "outputs": [
    {
     "name": "stderr",
     "output_type": "stream",
     "text": [
      "c:\\ProgramData\\Miniconda3\\envs\\nlp_cluster\\lib\\site-packages\\seaborn\\_decorators.py:36: FutureWarning: Pass the following variables as keyword args: x, y. From version 0.12, the only valid positional argument will be `data`, and passing other arguments without an explicit keyword will result in an error or misinterpretation.\n",
      "  warnings.warn(\n"
     ]
    },
    {
     "data": {
      "text/plain": [
       "<AxesSubplot: >"
      ]
     },
     "execution_count": 18,
     "metadata": {},
     "output_type": "execute_result"
    },
    {
     "data": {
      "image/png": "[encoded data removed]",
      "text/plain": [
       "<Figure size 640x480 with 1 Axes>"
      ]
     },
     "metadata": {},
     "output_type": "display_data"
    }
   ],
   "source": [
    "sns.scatterplot(reduced_embeddings[:,0], reduced_embeddings[:,1], hue=hdb.labels_, legend='full', palette=\"bright\")"
   ]
  },
  {
   "cell_type": "markdown",
   "metadata": {},
   "source": [
    "## Summarize Clusters"
   ]
  },
  {
   "cell_type": "code",
   "execution_count": null,
   "metadata": {},
   "outputs": [],
   "source": [
    "df.head()"
   ]
  },
  {
   "cell_type": "code",
   "execution_count": null,
   "metadata": {},
   "outputs": [],
   "source": [
    "df['Cluster Label'].value_counts()"
   ]
  },
  {
   "cell_type": "markdown",
   "metadata": {},
   "source": [
    "## Visualize Plot"
   ]
  },
  {
   "cell_type": "markdown",
   "metadata": {},
   "source": []
  },
  {
   "cell_type": "code",
   "execution_count": null,
   "metadata": {},
   "outputs": [],
   "source": []
  }
 ],
 "metadata": {
  "kernelspec": {
   "display_name": "nlp_cluster",
   "language": "python",
   "name": "python3"
  },
  "language_info": {
   "codemirror_mode": {
    "name": "ipython",
    "version": 3
   },
   "file_extension": ".py",
   "mimetype": "text/x-python",
   "name": "python",
   "nbconvert_exporter": "python",
   "pygments_lexer": "ipython3",
   "version": "3.9.5"
  }
 },
 "nbformat": 4,
 "nbformat_minor": 2
}
