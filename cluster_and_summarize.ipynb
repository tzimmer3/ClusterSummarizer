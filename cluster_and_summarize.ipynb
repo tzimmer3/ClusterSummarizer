{
 "cells": [
  {
   "cell_type": "code",
   "execution_count": 1,
   "metadata": {},
   "outputs": [],
   "source": [
    "import pandas as pd\n",
    "import matplotlib.pyplot as plt\n",
    "import seaborn as sns\n",
    "\n",
    "# Clustering\n",
    "#import sklearn\n",
    "import hdbscan\n",
    "# Dim reduction\n",
    "from sklearn.manifold import TSNE\n",
    "# Summarization\n",
    "\n",
    "\n",
    "# src\n",
    "from src.embed import get_embeddings"
   ]
  },
  {
   "cell_type": "code",
   "execution_count": 2,
   "metadata": {},
   "outputs": [],
   "source": [
    "filepath = \"C:\\\\Users\\\\hlmq\\\\OneDrive - Chevron\\\\Desktop\\\\Projects\\\\Tech Abstracts\\\\data\\\\\"\n",
    "filename = \"2023 Tech Showcase Abstracts - with flags.csv\"\n",
    "\n",
    "df = pd.read_csv(str(filepath)+str(filename))"
   ]
  },
  {
   "cell_type": "code",
   "execution_count": 3,
   "metadata": {},
   "outputs": [],
   "source": [
    "## VARIABLES\n",
    "\n",
    "TEXT_FIELD = \"Abstract Text (limit to 250 words)\""
   ]
  },
  {
   "cell_type": "code",
   "execution_count": 4,
   "metadata": {},
   "outputs": [
    {
     "data": {
      "text/html": [
       "<div>\n",
       "<style scoped>\n",
       "    .dataframe tbody tr th:only-of-type {\n",
       "        vertical-align: middle;\n",
       "    }\n",
       "\n",
       "    .dataframe tbody tr th {\n",
       "        vertical-align: top;\n",
       "    }\n",
       "\n",
       "    .dataframe thead th {\n",
       "        text-align: right;\n",
       "    }\n",
       "</style>\n",
       "<table border=\"1\" class=\"dataframe\">\n",
       "  <thead>\n",
       "    <tr style=\"text-align: right;\">\n",
       "      <th></th>\n",
       "      <th>Selected</th>\n",
       "      <th>year</th>\n",
       "      <th>Abstract Title</th>\n",
       "      <th>Abstract Text (limit to 250 words)</th>\n",
       "    </tr>\n",
       "  </thead>\n",
       "  <tbody>\n",
       "    <tr>\n",
       "      <th>0</th>\n",
       "      <td>Yes</td>\n",
       "      <td>2023</td>\n",
       "      <td>Scaling Aircraft-Based Methane Detection acros...</td>\n",
       "      <td>Methane emission reductions from the oil and g...</td>\n",
       "    </tr>\n",
       "    <tr>\n",
       "      <th>1</th>\n",
       "      <td>NaN</td>\n",
       "      <td>2023</td>\n",
       "      <td>Development and Deployment of Chevron's Fractu...</td>\n",
       "      <td>Embedded Discrete Fracture Modeling (EDFM) is ...</td>\n",
       "    </tr>\n",
       "    <tr>\n",
       "      <th>2</th>\n",
       "      <td>yes</td>\n",
       "      <td>2023</td>\n",
       "      <td>Hydrogen Must Win Technology Challenge linkage...</td>\n",
       "      <td>Chevron aims to leverage our strengths to deli...</td>\n",
       "    </tr>\n",
       "    <tr>\n",
       "      <th>3</th>\n",
       "      <td>Yes</td>\n",
       "      <td>2023</td>\n",
       "      <td>Leveraging the Digital Oilfield: Optimizing Op...</td>\n",
       "      <td>The Tech Center, in collaboration with PE and ...</td>\n",
       "    </tr>\n",
       "    <tr>\n",
       "      <th>4</th>\n",
       "      <td>NaN</td>\n",
       "      <td>2023</td>\n",
       "      <td>Leveraging Technology to Improve Hydraulic Fra...</td>\n",
       "      <td>Development and deployment of fit-for-purpose,...</td>\n",
       "    </tr>\n",
       "  </tbody>\n",
       "</table>\n",
       "</div>"
      ],
      "text/plain": [
       "  Selected  year                                     Abstract Title  \\\n",
       "0      Yes  2023  Scaling Aircraft-Based Methane Detection acros...   \n",
       "1      NaN  2023  Development and Deployment of Chevron's Fractu...   \n",
       "2      yes  2023  Hydrogen Must Win Technology Challenge linkage...   \n",
       "3      Yes  2023  Leveraging the Digital Oilfield: Optimizing Op...   \n",
       "4      NaN  2023  Leveraging Technology to Improve Hydraulic Fra...   \n",
       "\n",
       "                  Abstract Text (limit to 250 words)  \n",
       "0  Methane emission reductions from the oil and g...  \n",
       "1  Embedded Discrete Fracture Modeling (EDFM) is ...  \n",
       "2  Chevron aims to leverage our strengths to deli...  \n",
       "3  The Tech Center, in collaboration with PE and ...  \n",
       "4  Development and deployment of fit-for-purpose,...  "
      ]
     },
     "execution_count": 4,
     "metadata": {},
     "output_type": "execute_result"
    }
   ],
   "source": [
    "df.head()"
   ]
  },
  {
   "cell_type": "markdown",
   "metadata": {},
   "source": [
    "## Embed Text"
   ]
  },
  {
   "cell_type": "code",
   "execution_count": 5,
   "metadata": {},
   "outputs": [],
   "source": [
    "# Generate embeddings\n",
    "abstracts = df[TEXT_FIELD].to_list()\n",
    "embeddings = get_embeddings(abstracts)"
   ]
  },
  {
   "cell_type": "markdown",
   "metadata": {},
   "source": [
    "## Cluster Text"
   ]
  },
  {
   "cell_type": "code",
   "execution_count": 6,
   "metadata": {},
   "outputs": [],
   "source": [
    "# HDBScan\n",
    "hdb = hdbscan.HDBSCAN(\n",
    "    min_samples=2, \n",
    "    min_cluster_size=2,\n",
    "    allow_single_cluster=False\n",
    "    #store_centers=\"medoid\"\n",
    "    ).fit(embeddings)"
   ]
  },
  {
   "cell_type": "code",
   "execution_count": 7,
   "metadata": {},
   "outputs": [
    {
     "data": {
      "text/plain": [
       "-1    81\n",
       " 2    19\n",
       " 1     7\n",
       " 0     3\n",
       "Name: Cluster Label, dtype: int64"
      ]
     },
     "execution_count": 7,
     "metadata": {},
     "output_type": "execute_result"
    }
   ],
   "source": [
    "df['Cluster Label'] = hdb.labels_\n",
    "df['Cluster Probability'] = hdb.probabilities_\n",
    "\n",
    "#print(len(hdb.medoids_))\n",
    "\n",
    "df['Cluster Label'].value_counts()"
   ]
  },
  {
   "cell_type": "code",
   "execution_count": 8,
   "metadata": {},
   "outputs": [],
   "source": [
    "#sns.displot(df['Cluster Probability'])"
   ]
  },
  {
   "cell_type": "markdown",
   "metadata": {},
   "source": [
    "## Reduce Embedding Dimensions"
   ]
  },
  {
   "cell_type": "code",
   "execution_count": 9,
   "metadata": {},
   "outputs": [
    {
     "name": "stderr",
     "output_type": "stream",
     "text": [
      "c:\\ProgramData\\Miniconda3\\envs\\nlp_cluster\\lib\\site-packages\\sklearn\\manifold\\_t_sne.py:790: FutureWarning: The default learning rate in TSNE will change from 200.0 to 'auto' in 1.2.\n",
      "  warnings.warn(\n",
      "c:\\ProgramData\\Miniconda3\\envs\\nlp_cluster\\lib\\site-packages\\sklearn\\manifold\\_t_sne.py:982: FutureWarning: The PCA initialization in TSNE will change to have the standard deviation of PC1 equal to 1e-4 in 1.2. This will ensure better convergence.\n",
      "  warnings.warn(\n"
     ]
    }
   ],
   "source": [
    "tsne = TSNE(\n",
    "    n_components=2,\n",
    "    perplexity=10,\n",
    "    n_iter=5000,\n",
    "    init = \"pca\",\n",
    "    random_state = 0\n",
    ")\n",
    "reduced_embeddings = tsne.fit_transform(embeddings)"
   ]
  },
  {
   "cell_type": "markdown",
   "metadata": {},
   "source": [
    "## Summarize Clusters"
   ]
  },
  {
   "cell_type": "code",
   "execution_count": 10,
   "metadata": {},
   "outputs": [],
   "source": [
    "def select_top_k(data, cluster_label):\n",
    "    temp_df = data[data['Cluster Label']==cluster_label]\n",
    "    temp_df = temp_df.nlargest(3, columns='Cluster Probability', keep='first')\n",
    "    return temp_df"
   ]
  },
  {
   "cell_type": "code",
   "execution_count": 11,
   "metadata": {},
   "outputs": [
    {
     "data": {
      "text/html": [
       "<div>\n",
       "<style scoped>\n",
       "    .dataframe tbody tr th:only-of-type {\n",
       "        vertical-align: middle;\n",
       "    }\n",
       "\n",
       "    .dataframe tbody tr th {\n",
       "        vertical-align: top;\n",
       "    }\n",
       "\n",
       "    .dataframe thead th {\n",
       "        text-align: right;\n",
       "    }\n",
       "</style>\n",
       "<table border=\"1\" class=\"dataframe\">\n",
       "  <thead>\n",
       "    <tr style=\"text-align: right;\">\n",
       "      <th></th>\n",
       "      <th>Selected</th>\n",
       "      <th>year</th>\n",
       "      <th>Abstract Title</th>\n",
       "      <th>Abstract Text (limit to 250 words)</th>\n",
       "      <th>Cluster Label</th>\n",
       "      <th>Cluster Probability</th>\n",
       "    </tr>\n",
       "  </thead>\n",
       "  <tbody>\n",
       "    <tr>\n",
       "      <th>13</th>\n",
       "      <td>NaN</td>\n",
       "      <td>2023</td>\n",
       "      <td>Basin Scale Screening Workflows for Carbon Sto...</td>\n",
       "      <td>Carbon capture and storage (CCS) has emerged a...</td>\n",
       "      <td>0</td>\n",
       "      <td>1.0</td>\n",
       "    </tr>\n",
       "    <tr>\n",
       "      <th>31</th>\n",
       "      <td>NaN</td>\n",
       "      <td>2023</td>\n",
       "      <td>Fast CO2 Plume Modeling for Early CCS Site Cha...</td>\n",
       "      <td>Assessing the CO2 storage potential and the CO...</td>\n",
       "      <td>0</td>\n",
       "      <td>1.0</td>\n",
       "    </tr>\n",
       "    <tr>\n",
       "      <th>60</th>\n",
       "      <td>NaN</td>\n",
       "      <td>2023</td>\n",
       "      <td>PlumeFlow: Rapid CCS Simulation and Monitoring...</td>\n",
       "      <td>In Carbon Capture and Storage (CCS) one must s...</td>\n",
       "      <td>0</td>\n",
       "      <td>1.0</td>\n",
       "    </tr>\n",
       "  </tbody>\n",
       "</table>\n",
       "</div>"
      ],
      "text/plain": [
       "   Selected  year                                     Abstract Title  \\\n",
       "13      NaN  2023  Basin Scale Screening Workflows for Carbon Sto...   \n",
       "31      NaN  2023  Fast CO2 Plume Modeling for Early CCS Site Cha...   \n",
       "60      NaN  2023  PlumeFlow: Rapid CCS Simulation and Monitoring...   \n",
       "\n",
       "                   Abstract Text (limit to 250 words)  Cluster Label  \\\n",
       "13  Carbon capture and storage (CCS) has emerged a...              0   \n",
       "31  Assessing the CO2 storage potential and the CO...              0   \n",
       "60  In Carbon Capture and Storage (CCS) one must s...              0   \n",
       "\n",
       "    Cluster Probability  \n",
       "13                  1.0  \n",
       "31                  1.0  \n",
       "60                  1.0  "
      ]
     },
     "execution_count": 11,
     "metadata": {},
     "output_type": "execute_result"
    }
   ],
   "source": [
    "check = select_top_k(df, 0)\n",
    "check"
   ]
  },
  {
   "cell_type": "code",
   "execution_count": 12,
   "metadata": {},
   "outputs": [
    {
     "data": {
      "text/plain": [
       "-1    81\n",
       " 2    19\n",
       " 1     7\n",
       " 0     3\n",
       "Name: Cluster Label, dtype: int64"
      ]
     },
     "execution_count": 12,
     "metadata": {},
     "output_type": "execute_result"
    }
   ],
   "source": [
    "df['Cluster Label'].value_counts()"
   ]
  },
  {
   "cell_type": "markdown",
   "metadata": {},
   "source": [
    "## Visualize Plot"
   ]
  },
  {
   "cell_type": "code",
   "execution_count": 15,
   "metadata": {},
   "outputs": [
    {
     "name": "stderr",
     "output_type": "stream",
     "text": [
      "c:\\ProgramData\\Miniconda3\\envs\\nlp_cluster\\lib\\site-packages\\seaborn\\_decorators.py:36: FutureWarning: Pass the following variables as keyword args: x, y. From version 0.12, the only valid positional argument will be `data`, and passing other arguments without an explicit keyword will result in an error or misinterpretation.\n",
      "  warnings.warn(\n"
     ]
    },
    {
     "data": {
      "image/png": "[encoded data removed]",
      "text/plain": [
       "<Figure size 640x480 with 1 Axes>"
      ]
     },
     "metadata": {},
     "output_type": "display_data"
    }
   ],
   "source": [
    "p1 = sns.scatterplot(reduced_embeddings[:,0], reduced_embeddings[:,1], hue=df['Cluster Label'], legend='full', palette=\"bright\")\n",
    "\n",
    "for line in range(0,df.shape[0]):\n",
    "     p1.text(reduced_embeddings[:,0][line]+0.01, reduced_embeddings[:,1][line], \n",
    "     df['Cluster Label'][line], \n",
    "     horizontalalignment='right', \n",
    "     size='medium', \n",
    "     color='black', \n",
    "     weight='semibold')"
   ]
  },
  {
   "cell_type": "code",
   "execution_count": null,
   "metadata": {},
   "outputs": [],
   "source": [
    "plt.scatter(reduced_embeddings[:,0], reduced_embeddings[:,1])"
   ]
  },
  {
   "cell_type": "code",
   "execution_count": null,
   "metadata": {},
   "outputs": [],
   "source": []
  }
 ],
 "metadata": {
  "kernelspec": {
   "display_name": "nlp_cluster",
   "language": "python",
   "name": "python3"
  },
  "language_info": {
   "codemirror_mode": {
    "name": "ipython",
    "version": 3
   },
   "file_extension": ".py",
   "mimetype": "text/x-python",
   "name": "python",
   "nbconvert_exporter": "python",
   "pygments_lexer": "ipython3",
   "version": "3.9.5"
  }
 },
 "nbformat": 4,
 "nbformat_minor": 2
}
