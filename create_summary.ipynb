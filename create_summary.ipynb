{
 "cells": [
  {
   "cell_type": "code",
   "execution_count": 1,
   "metadata": {},
   "outputs": [],
   "source": [
    "import os\n",
    "import openai\n",
    "openai.api_type = \"azure\"\n",
    "openai.api_base = \"https://crrc-t170-cvx-france.openai.azure.com/\"\n",
    "openai.api_version = \"2023-09-15-preview\"\n",
    "openai.api_key = os.getenv(\"OPENAI_API_KEY\")\n",
    "openai.api_key = \"8a4a2a3d7af2430188ee31adcc298c45\"\n",
    "\n",
    "import pandas as pd"
   ]
  },
  {
   "cell_type": "code",
   "execution_count": 2,
   "metadata": {},
   "outputs": [],
   "source": [
    "filepath = \"C:\\\\Users\\\\hlmq\\\\OneDrive - Chevron\\\\Desktop\\\\Projects\\\\Tech Abstracts\\\\data\\\\\"\n",
    "filename = \"2023 Tech Showcase Abstracts - with flags.csv\"\n",
    "\n",
    "df = pd.read_csv(str(filepath)+str(filename))"
   ]
  },
  {
   "cell_type": "code",
   "execution_count": 3,
   "metadata": {},
   "outputs": [
    {
     "data": {
      "text/html": [
       "<div>\n",
       "<style scoped>\n",
       "    .dataframe tbody tr th:only-of-type {\n",
       "        vertical-align: middle;\n",
       "    }\n",
       "\n",
       "    .dataframe tbody tr th {\n",
       "        vertical-align: top;\n",
       "    }\n",
       "\n",
       "    .dataframe thead th {\n",
       "        text-align: right;\n",
       "    }\n",
       "</style>\n",
       "<table border=\"1\" class=\"dataframe\">\n",
       "  <thead>\n",
       "    <tr style=\"text-align: right;\">\n",
       "      <th></th>\n",
       "      <th>Selected</th>\n",
       "      <th>year</th>\n",
       "      <th>Abstract Title</th>\n",
       "      <th>Abstract Text (limit to 250 words)</th>\n",
       "    </tr>\n",
       "  </thead>\n",
       "  <tbody>\n",
       "    <tr>\n",
       "      <th>105</th>\n",
       "      <td>NaN</td>\n",
       "      <td>2023</td>\n",
       "      <td>Abstract for the Development and Deployment of...</td>\n",
       "      <td>Introduction\\nContinuous cost monitoring of pr...</td>\n",
       "    </tr>\n",
       "    <tr>\n",
       "      <th>106</th>\n",
       "      <td>NaN</td>\n",
       "      <td>2023</td>\n",
       "      <td>Metal Loss Smart Monitoring System - a game ch...</td>\n",
       "      <td>Chevron subsea pipelines network health is cri...</td>\n",
       "    </tr>\n",
       "    <tr>\n",
       "      <th>107</th>\n",
       "      <td>yes</td>\n",
       "      <td>2023</td>\n",
       "      <td>Deploying High Productivity Welding Technology...</td>\n",
       "      <td>This Showcase presentation illustrates a win-w...</td>\n",
       "    </tr>\n",
       "    <tr>\n",
       "      <th>108</th>\n",
       "      <td>NaN</td>\n",
       "      <td>2023</td>\n",
       "      <td>Improve industrial equipment cleanliness and e...</td>\n",
       "      <td>Varnish &amp; deposition formation in lubrication ...</td>\n",
       "    </tr>\n",
       "    <tr>\n",
       "      <th>109</th>\n",
       "      <td>NaN</td>\n",
       "      <td>2023</td>\n",
       "      <td>Fiber Optics for Subsurface Monitoring in Shal...</td>\n",
       "      <td>Fiber optics surveillance has proven successfu...</td>\n",
       "    </tr>\n",
       "  </tbody>\n",
       "</table>\n",
       "</div>"
      ],
      "text/plain": [
       "    Selected  year                                     Abstract Title  \\\n",
       "105      NaN  2023  Abstract for the Development and Deployment of...   \n",
       "106      NaN  2023  Metal Loss Smart Monitoring System - a game ch...   \n",
       "107      yes  2023  Deploying High Productivity Welding Technology...   \n",
       "108      NaN  2023  Improve industrial equipment cleanliness and e...   \n",
       "109      NaN  2023  Fiber Optics for Subsurface Monitoring in Shal...   \n",
       "\n",
       "                    Abstract Text (limit to 250 words)  \n",
       "105  Introduction\\nContinuous cost monitoring of pr...  \n",
       "106  Chevron subsea pipelines network health is cri...  \n",
       "107  This Showcase presentation illustrates a win-w...  \n",
       "108  Varnish & deposition formation in lubrication ...  \n",
       "109  Fiber optics surveillance has proven successfu...  "
      ]
     },
     "execution_count": 3,
     "metadata": {},
     "output_type": "execute_result"
    }
   ],
   "source": [
    "df.tail()"
   ]
  },
  {
   "cell_type": "code",
   "execution_count": 4,
   "metadata": {},
   "outputs": [],
   "source": [
    "def generate_question(observation):\n",
    "## CLUSTER QUESTION\n",
    "\n",
    "    # 'Abstract Text (limit to 250 words)'\n",
    "    prompt_text = f\"Context: {observation}. Formulate a unique question to ask about the following projects. Specifically focus on any technologies that are mentioned in the project description.  example:\\n\\n What are we doing about saltwater disposal in the permian?\"\n",
    "\n",
    "\n",
    "    response = openai.Completion.create(\n",
    "        engine=\"gpt-35-turbo\",\n",
    "        prompt=prompt_text,\n",
    "        temperature=.7,\n",
    "        max_tokens=15,\n",
    "        top_p=1,\n",
    "        frequency_penalty=1,\n",
    "        presence_penalty=0,\n",
    "        stop=None)\n",
    "\n",
    "    return response['choices'][0]['text']"
   ]
  },
  {
   "cell_type": "code",
   "execution_count": 13,
   "metadata": {},
   "outputs": [],
   "source": [
    "#df = df.iloc[20:25]\n",
    "\n",
    "\n",
    "cluster0_index_locations = [8, 9, 10]#, 12, 14, 20, 21, 48, 76, 77, 78, 80, 83, 85, 87, 89, 90, 98, 103, 106]\n",
    "cluster1_index_locations = [4, 28, 47]#, 49, 50, 69, 75, 91, 92, 95]\n",
    "cluster2_index_locations = [0, 2, 7]#, 16, 36, 37, 38, 46, 53, 55, 61, 79, 102, 104, 108]\n",
    "cluster3_index_locations = [44, 58, 74]#, 88, 101, 107]\n",
    "cluster4_index_locations = [3, 6, 17]#, 22, 23, 25, 39, 54, 59, 62, 64, 65, 72, 97]\n",
    "cluster5_index_locations = [1, 5, 13]#, 18, 27, 30, 31, 32, 33, 51, 52, 60, 63, 67, 68, 84, 93, 94, 96, 99, 109]\n",
    "cluster6_index_locations = [34, 70, 73]\n",
    "cluster7_index_locations = [35, 42, 66]#, 71, 81, 82, 86]\n",
    "cluster8_index_locations = [11, 15, 19]#, 24, 26, 29, 43, 45, 56, 57, 100, 105]\n",
    "cluster9_index_locations = [40, 41]\n",
    "\n",
    "clusters = [cluster0_index_locations, \n",
    "            cluster1_index_locations, \n",
    "            cluster2_index_locations, \n",
    "            cluster3_index_locations, \n",
    "            cluster4_index_locations, \n",
    "            cluster5_index_locations, \n",
    "            cluster6_index_locations,\n",
    "            cluster7_index_locations, \n",
    "            cluster8_index_locations, \n",
    "            cluster9_index_locations\n",
    "            ]\n",
    "\n",
    "\n",
    "temp_index = []\n",
    "results = []\n",
    "\n",
    "for index, i in enumerate(clusters):\n",
    "    \n",
    "    temp_index.append(index)\n",
    "    temp_df = df.iloc[i]\n",
    "    \n",
    "    observation = ', '.join(temp_df['Abstract Text (limit to 250 words)'].tolist())\n",
    "    results.append(generate_question(observation))"
   ]
  },
  {
   "cell_type": "code",
   "execution_count": 14,
   "metadata": {},
   "outputs": [
    {
     "data": {
      "text/plain": [
       "[' \\n\\n1. What are the potential benefits of using deepwater scalable digital monitoring',\n",
       " ' \\n\\nCan our Fracture Fluid Chemical Optimization (FFCO) technology be',\n",
       " ' \\n\\nWhat are the benefits of using solar thermal over electrolysis for hydrogen production',\n",
       " ' \\n\\n1. Can Super Insulation be used for rigid, flexibles,',\n",
       " \" \\n\\n1. How does the Digital Oilfield solution improve petroleum engineers' ability\",\n",
       " \" \\n \\n 1. What impact has the implementation of Chevron's EDFM\",\n",
       " ' \\n\\n1. Energy storage systems (ESS) are an essential component of renewable',\n",
       " ' \\n\\n1. What is the MWTC goal and how much CO2 emissions',\n",
       " '  - Not a good question.\\n\\nWhat is the innovative approach to data management',\n",
       " ' \\n\\nProject 1: \\nHow does our use of a mobile app engagement']"
      ]
     },
     "execution_count": 14,
     "metadata": {},
     "output_type": "execute_result"
    }
   ],
   "source": [
    "results"
   ]
  },
  {
   "cell_type": "code",
   "execution_count": null,
   "metadata": {},
   "outputs": [],
   "source": []
  },
  {
   "cell_type": "code",
   "execution_count": null,
   "metadata": {},
   "outputs": [],
   "source": []
  },
  {
   "cell_type": "code",
   "execution_count": null,
   "metadata": {},
   "outputs": [],
   "source": []
  },
  {
   "cell_type": "code",
   "execution_count": null,
   "metadata": {},
   "outputs": [],
   "source": [
    "## CLUSTER DESCRIPTION\n",
    "\n",
    "results = []\n",
    "\n",
    "# 'Abstract Text (limit to 250 words)'\n",
    "\n",
    "observation = ', '.join(df['Abstract Text (limit to 250 words)'].tolist())\n",
    "prompt_text = f\"Context: {observation}. Capture the main idea of these documents in a MAXIMUM of 6 words. `DO NOT PROVIDE ANY ADDITIONAL EXPLANATION OR DETAILS`. example\\n\\n El Segundo Refinery\"\n",
    "\n",
    "response = openai.Completion.create(\n",
    "    engine=\"gpt-35-turbo\",\n",
    "    prompt=prompt_text,\n",
    "    temperature=0,\n",
    "    max_tokens=9,\n",
    "    top_p=1,\n",
    "    frequency_penalty=1,\n",
    "    presence_penalty=0,\n",
    "    stop=None)\n",
    "\n",
    "results.append(response['choices'][0]['text'])"
   ]
  },
  {
   "cell_type": "code",
   "execution_count": null,
   "metadata": {},
   "outputs": [],
   "source": [
    "results"
   ]
  },
  {
   "cell_type": "code",
   "execution_count": null,
   "metadata": {},
   "outputs": [],
   "source": [
    "def generate_question(data):\n",
    "## CLUSTER QUESTION\n",
    "\n",
    "    # 'Abstract Text (limit to 250 words)'\n",
    "\n",
    "    observation = ', '.join(data['Abstract Text (limit to 250 words)'].tolist())\n",
    "    prompt_text = f\"Context: {observation}. Formulate a unique question to ask about the following projects. Specifically focus on any technologies that are mentioned in the project description.  example:\\n\\n What are we doing about saltwater disposal in the permian?\"\n",
    "\n",
    "\n",
    "    response = openai.Completion.create(\n",
    "        engine=\"gpt-35-turbo\",\n",
    "        prompt=prompt_text,\n",
    "        temperature=.7,\n",
    "        max_tokens=15,\n",
    "        top_p=1,\n",
    "        frequency_penalty=1,\n",
    "        presence_penalty=0,\n",
    "        stop=None)\n",
    "\n",
    "    return response['choices'][0]['text']"
   ]
  },
  {
   "cell_type": "code",
   "execution_count": null,
   "metadata": {},
   "outputs": [],
   "source": [
    "results"
   ]
  },
  {
   "cell_type": "markdown",
   "metadata": {},
   "source": [
    "## Write out to file"
   ]
  },
  {
   "cell_type": "code",
   "execution_count": null,
   "metadata": {},
   "outputs": [],
   "source": [
    "df.to_csv(\"C:\\\\Users\\\\hlmq\\\\OneDrive - Chevron\\\\Desktop\\\\GLFFeedbacktoMKW_clean_aspects.csv\")"
   ]
  },
  {
   "cell_type": "code",
   "execution_count": null,
   "metadata": {},
   "outputs": [],
   "source": []
  },
  {
   "cell_type": "markdown",
   "metadata": {},
   "source": [
    "## Appendix"
   ]
  },
  {
   "cell_type": "code",
   "execution_count": null,
   "metadata": {},
   "outputs": [],
   "source": [
    "prompt_text = f\"Perform aspect based sentiment analysis on the text below. - Provide overall sentiment score between 0 to 5 for the review- Provide a sentiment polarity score between 0 to 5 for each aspect  Example Text: • Culture: I believe our culture is positive, energized and more inclusive compared to 1991 when I started. We are all much more informed by leaders and we as leaders have taken the challenge of including our people in many discussions to enhance engagement. My strong belief is informed and educated workforce will support changes that they suggest for brighter future. • Communication: While the communication has improved, it could be more transparent, especially regarding company goals and decisions that impacts people. I do sense that our employees are worried and nervous about future of energy and their future in Chevron. This amplifies in smaller BUs, i.e., Chevron Oronite where the employees are constantly asking about their BUs role in energy transition, or in smaller refineries vs. larger sites. • OPG: We are on the right path. I believe the growing pains are over, and we are getting organized through both strategy setting and business planning. The area that we need to pay attention is how do we develop cross functional leaders for OPG. We may all be under OPG umbrella but our PDCs still suffer from similarity bias. • Benchmarking and competitive performance: We have strong processes to utilize the benchmarking data, create gap closure strategies, develop strategy to action lists. From my refining days and now in chemicals, we usually fall short on actions to results and keeping our teams focused and accountable on gap closure results. That is the focus for me to ensure we move from the lists of actions to actively prioritizing actions and delivering results.  • Digitalization and future of AI: Our teams are eager to change the way we work. The challenge is to create AI and digital tools we need time and resources to see the impact on changing the way we work. Example Output:    Overall sentiment score: 3.2Aspects with sentiment polarity score:- Culture: 5  - Communication: 3   - OPG: 3   - Competitive Performance: 2   - Digitalization: 3  /nTEXT:  {observation}\""
   ]
  },
  {
   "cell_type": "code",
   "execution_count": null,
   "metadata": {},
   "outputs": [],
   "source": [
    "response = openai.Completion.create(\n",
    "  engine=\"gpt-35-turbo\",\n",
    "  prompt=prompt_text,\n",
    "  temperature=0,\n",
    "  max_tokens=100,\n",
    "  top_p=1,\n",
    "  frequency_penalty=0,\n",
    "  presence_penalty=0,\n",
    "  stop=None)"
   ]
  },
  {
   "cell_type": "code",
   "execution_count": null,
   "metadata": {},
   "outputs": [],
   "source": [
    "print(response['choices'][0]['text'])"
   ]
  },
  {
   "cell_type": "code",
   "execution_count": null,
   "metadata": {},
   "outputs": [],
   "source": [
    "observation = [\n",
    "    \"The El Segundo Refinery is sandwiched between densely populated and affluent neighborhoods on all sides.  Sustainable, long-term operations require proactive measures to minimize all refinery impacts to our neighbors.  Noise from the refinery, LAX airport, street traffic, power plants and other industries, is the #1 source of community complaints.  An existing noise monitoring system consisting of 3 working sensors which are at end or life, is incapable of provide data required to determine origination of noise and effectively engage with the community when responding to noise complaints.  A traditional hard-wired system, providing comprehensive noise monitoring of the approximately 1 square mile refinery, and allow for early detection and mitigation would cost ~$7MM - $10MM, along with a multi-year effort to design and install.  In collaboration with CTC APPS R&I, we initially trialed a semi-wireless system which proved very problematic due to cyber security and other technical issues.  During this trial, the team was informed about an Orbiwise LoRaWAN IIoT solution and quickly pivoted to complete a small trial which was not only successful in achieving all project objectives but proved to be significantly more cost effective, scalable, and maintainable due its wireless design.  Within a few months and a modest investment, this new system was scaled across the refinery and now provides complete noise coverage, alerts when noise exceed established baselines, early detection and mitigation, and historical data to effectively engage with our neighbors when noise sources are external to our operations.\",\n",
    "    \"Many product storage tanks at the El Segundo Refinery are located within a few hundred feet of major residential neighborhoods.  Our company, and the industry have experienced incidents on tank floating roofs resulting in a Loss of Containment (LOC).  Enhancing existing safeguards to prevent an LOC incident with significant environmental and community impact is paramount to continued operations, maintaining strong community relations, and company reputation. Tank floating roofs can tilt during lowering or raising tank levels due to mechanical and structural issues, or accumulation of rainwater.  Providing continuous roof monitoring allows for early detection and mitigation of tank roof tilt in these scenarios. In collaboration with CTC, CTV, IIoT, ITFP-OT, APPS, Innovation & Commercialization, and Surface M&I, we developed a proprietary IIoT solution which was successfully trialed and installed on 30 tanks at the El Segundo Refinery.  This solution is cost effective, easily scalable, completely wireless, solar powered, and has applicability across the enterprise.  Additionally, it can be remotely managed through the CVX cloud and requires minimal maintenance, thus lower lifecycle costs.  The solution incorporates 3 sensors located equidistantly at the top of the tank and measures roof travel at these locations.  These measurements are then used to calculate if there is a difference in travel at these locations.   This additional layer of protection demonstrates our commitment to preventing serious incidents, protecting the environment and the communities in which we operate.\",\n",
    "    \"Refineries often face practical challenges and operating issues when processing opportunity crude to maximize returns amid crude market shifts. At DT&S, we have built internal capability and expertise to conduct crude treatment study. In addition to lab study to investigate impurity (e.g. Cl, amines, solids) removal, emulsion stability, and phase separation kinetics, we can also run a lab desalter to demonstrate the performance at refinery desalter conditions. Through close collaborations between CTC and CVX refineries, we have been able to quickly respond to refinery’s needs of crude VCO and seeking higher margin by reliably processing challenging crudes. Two recent examples are:   Processing Canadian Dilbits at El Segundo refinery: With its high solids and low API, Canadian dilbits pose significant challenges for reliable operations. Through batch tests and lab desalter runs we developed a solution that will allow good desalting performance at desired blending ratios. El Segundo refinery completed a field trial run of  in March 2022, with 4CU being able to process over 75 MBD of Canadian dilbits, exceeding planed goal of 70 MBD, and there was no negative impact on desalter performance. Running heavy Canadian dilbits at an average rate of 40 MBD can enable gross margins gains upwards of $45-50MM/YR. CATES (Cut Asphalt to El Segundo) Project: Richmond refinery needs to find a home for ~ 40mbd SDA tar due to IMO2020, and desired option is to process at El Segundo refinery. Based on lab study results we recommended blending ratio and chemical use for reliable processing of Richmond SDA tar. A field trial run in Nov. 2021 was completed at El Segundo, and the results demonstrated the desalting performance. The financial benefit of CATES will be ~ $2MM/YR.\"\n",
    "]"
   ]
  }
 ],
 "metadata": {
  "kernelspec": {
   "display_name": "nlp_testing",
   "language": "python",
   "name": "python3"
  },
  "language_info": {
   "codemirror_mode": {
    "name": "ipython",
    "version": 3
   },
   "file_extension": ".py",
   "mimetype": "text/x-python",
   "name": "python",
   "nbconvert_exporter": "python",
   "pygments_lexer": "ipython3",
   "version": "3.9.5"
  }
 },
 "nbformat": 4,
 "nbformat_minor": 2
}
