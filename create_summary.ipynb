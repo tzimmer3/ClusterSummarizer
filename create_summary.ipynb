{
 "cells": [
  {
   "cell_type": "code",
   "execution_count": 1,
   "metadata": {},
   "outputs": [],
   "source": [
    "import os\n",
    "import openai\n",
    "openai.api_type = \"azure\"\n",
    "openai.api_base = \"https://crrc-t170-cvx-france.openai.azure.com/\"\n",
    "openai.api_version = \"2023-09-15-preview\"\n",
    "openai.api_key = os.getenv(\"OPENAI_API_KEY\")\n",
    "openai.api_key = \"8a4a2a3d7af2430188ee31adcc298c45\"\n",
    "\n",
    "import pandas as pd"
   ]
  },
  {
   "cell_type": "code",
   "execution_count": 31,
   "metadata": {},
   "outputs": [],
   "source": [
    "filepath = \"C:\\\\Users\\\\hlmq\\\\OneDrive - Chevron\\\\Desktop\\\\Projects\\\\Tech Abstracts\\\\data\\\\\"\n",
    "filename = \"2023 Tech Showcase Abstracts - with flags.csv\"\n",
    "\n",
    "df = pd.read_csv(str(filepath)+str(filename))"
   ]
  },
  {
   "cell_type": "code",
   "execution_count": 32,
   "metadata": {},
   "outputs": [
    {
     "data": {
      "text/html": [
       "<div>\n",
       "<style scoped>\n",
       "    .dataframe tbody tr th:only-of-type {\n",
       "        vertical-align: middle;\n",
       "    }\n",
       "\n",
       "    .dataframe tbody tr th {\n",
       "        vertical-align: top;\n",
       "    }\n",
       "\n",
       "    .dataframe thead th {\n",
       "        text-align: right;\n",
       "    }\n",
       "</style>\n",
       "<table border=\"1\" class=\"dataframe\">\n",
       "  <thead>\n",
       "    <tr style=\"text-align: right;\">\n",
       "      <th></th>\n",
       "      <th>Selected</th>\n",
       "      <th>year</th>\n",
       "      <th>Abstract Title</th>\n",
       "      <th>Abstract Text (limit to 250 words)</th>\n",
       "    </tr>\n",
       "  </thead>\n",
       "  <tbody>\n",
       "    <tr>\n",
       "      <th>105</th>\n",
       "      <td>NaN</td>\n",
       "      <td>2023</td>\n",
       "      <td>Abstract for the Development and Deployment of...</td>\n",
       "      <td>Introduction\\nContinuous cost monitoring of pr...</td>\n",
       "    </tr>\n",
       "    <tr>\n",
       "      <th>106</th>\n",
       "      <td>NaN</td>\n",
       "      <td>2023</td>\n",
       "      <td>Metal Loss Smart Monitoring System - a game ch...</td>\n",
       "      <td>Chevron subsea pipelines network health is cri...</td>\n",
       "    </tr>\n",
       "    <tr>\n",
       "      <th>107</th>\n",
       "      <td>yes</td>\n",
       "      <td>2023</td>\n",
       "      <td>Deploying High Productivity Welding Technology...</td>\n",
       "      <td>This Showcase presentation illustrates a win-w...</td>\n",
       "    </tr>\n",
       "    <tr>\n",
       "      <th>108</th>\n",
       "      <td>NaN</td>\n",
       "      <td>2023</td>\n",
       "      <td>Improve industrial equipment cleanliness and e...</td>\n",
       "      <td>Varnish &amp; deposition formation in lubrication ...</td>\n",
       "    </tr>\n",
       "    <tr>\n",
       "      <th>109</th>\n",
       "      <td>NaN</td>\n",
       "      <td>2023</td>\n",
       "      <td>Fiber Optics for Subsurface Monitoring in Shal...</td>\n",
       "      <td>Fiber optics surveillance has proven successfu...</td>\n",
       "    </tr>\n",
       "  </tbody>\n",
       "</table>\n",
       "</div>"
      ],
      "text/plain": [
       "    Selected  year                                     Abstract Title  \\\n",
       "105      NaN  2023  Abstract for the Development and Deployment of...   \n",
       "106      NaN  2023  Metal Loss Smart Monitoring System - a game ch...   \n",
       "107      yes  2023  Deploying High Productivity Welding Technology...   \n",
       "108      NaN  2023  Improve industrial equipment cleanliness and e...   \n",
       "109      NaN  2023  Fiber Optics for Subsurface Monitoring in Shal...   \n",
       "\n",
       "                    Abstract Text (limit to 250 words)  \n",
       "105  Introduction\\nContinuous cost monitoring of pr...  \n",
       "106  Chevron subsea pipelines network health is cri...  \n",
       "107  This Showcase presentation illustrates a win-w...  \n",
       "108  Varnish & deposition formation in lubrication ...  \n",
       "109  Fiber optics surveillance has proven successfu...  "
      ]
     },
     "execution_count": 32,
     "metadata": {},
     "output_type": "execute_result"
    }
   ],
   "source": [
    "df.tail()"
   ]
  },
  {
   "cell_type": "code",
   "execution_count": 33,
   "metadata": {},
   "outputs": [
    {
     "name": "stdout",
     "output_type": "stream",
     "text": [
      "9\n"
     ]
    }
   ],
   "source": [
    "#df = df.iloc[20:25]\n",
    "\n",
    "\n",
    "cluster0_index_locations = [2, 7, 35, 37, 46, 48, 61, 66, 104]\n",
    "df = df.iloc[cluster0_index_locations]\n",
    "\n",
    "print(len(df))"
   ]
  },
  {
   "cell_type": "code",
   "execution_count": null,
   "metadata": {},
   "outputs": [],
   "source": []
  },
  {
   "cell_type": "code",
   "execution_count": 34,
   "metadata": {},
   "outputs": [],
   "source": [
    "results = []\n",
    "\n",
    "# 'Abstract Text (limit to 250 words)'\n",
    "\n",
    "observation = ', '.join(df['Abstract Text (limit to 250 words)'].tolist())\n",
    "prompt_text = f\"Context: {observation}. Capture the main idea of these documents in a MAXIMUM of 6 words. `DO NOT PROVIDE ANY ADDITIONAL EXPLANATION OR DETAILS`. example\\n\\n Subsea Structure Characterization\"\n",
    "\n",
    "response = openai.Completion.create(\n",
    "    engine=\"gpt-35-turbo\",\n",
    "    prompt=prompt_text,\n",
    "    temperature=0,\n",
    "    max_tokens=9,\n",
    "    top_p=1,\n",
    "    frequency_penalty=1,\n",
    "    presence_penalty=0,\n",
    "    stop=None)\n",
    "\n",
    "results.append(response['choices'][0]['text'])"
   ]
  },
  {
   "cell_type": "code",
   "execution_count": 35,
   "metadata": {},
   "outputs": [
    {
     "data": {
      "text/plain": [
       "[': 3D Laser Scanning\\n-']"
      ]
     },
     "execution_count": 35,
     "metadata": {},
     "output_type": "execute_result"
    }
   ],
   "source": [
    "results"
   ]
  },
  {
   "cell_type": "code",
   "execution_count": null,
   "metadata": {},
   "outputs": [],
   "source": [
    "df['Summary'] = results"
   ]
  },
  {
   "cell_type": "code",
   "execution_count": 36,
   "metadata": {},
   "outputs": [
    {
     "data": {
      "text/html": [
       "<div>\n",
       "<style scoped>\n",
       "    .dataframe tbody tr th:only-of-type {\n",
       "        vertical-align: middle;\n",
       "    }\n",
       "\n",
       "    .dataframe tbody tr th {\n",
       "        vertical-align: top;\n",
       "    }\n",
       "\n",
       "    .dataframe thead th {\n",
       "        text-align: right;\n",
       "    }\n",
       "</style>\n",
       "<table border=\"1\" class=\"dataframe\">\n",
       "  <thead>\n",
       "    <tr style=\"text-align: right;\">\n",
       "      <th></th>\n",
       "      <th>Selected</th>\n",
       "      <th>year</th>\n",
       "      <th>Abstract Title</th>\n",
       "      <th>Abstract Text (limit to 250 words)</th>\n",
       "    </tr>\n",
       "  </thead>\n",
       "  <tbody>\n",
       "    <tr>\n",
       "      <th>2</th>\n",
       "      <td>yes</td>\n",
       "      <td>2023</td>\n",
       "      <td>Hydrogen Must Win Technology Challenge linkage...</td>\n",
       "      <td>Chevron aims to leverage our strengths to deli...</td>\n",
       "    </tr>\n",
       "    <tr>\n",
       "      <th>7</th>\n",
       "      <td>NaN</td>\n",
       "      <td>2023</td>\n",
       "      <td>Solar Thermal Green Hydrogen Through Water Spl...</td>\n",
       "      <td>Chevron aims to leverage our strengths to deli...</td>\n",
       "    </tr>\n",
       "    <tr>\n",
       "      <th>35</th>\n",
       "      <td>NaN</td>\n",
       "      <td>2023</td>\n",
       "      <td>Improving Margins through Innovation -  LCF Re...</td>\n",
       "      <td>Optimizing reactor throughput and conversion i...</td>\n",
       "    </tr>\n",
       "    <tr>\n",
       "      <th>37</th>\n",
       "      <td>NaN</td>\n",
       "      <td>2023</td>\n",
       "      <td>Utilizing Chemical Vapor Deposition (CVD) for ...</td>\n",
       "      <td>While Chevron has made significant strides in ...</td>\n",
       "    </tr>\n",
       "    <tr>\n",
       "      <th>46</th>\n",
       "      <td>Yes</td>\n",
       "      <td>2023</td>\n",
       "      <td>Maximizing Shale &amp; Tight assets value by combi...</td>\n",
       "      <td>The Shale and Tight Asset Class (STAC) will co...</td>\n",
       "    </tr>\n",
       "  </tbody>\n",
       "</table>\n",
       "</div>"
      ],
      "text/plain": [
       "   Selected  year                                     Abstract Title  \\\n",
       "2       yes  2023  Hydrogen Must Win Technology Challenge linkage...   \n",
       "7       NaN  2023  Solar Thermal Green Hydrogen Through Water Spl...   \n",
       "35      NaN  2023  Improving Margins through Innovation -  LCF Re...   \n",
       "37      NaN  2023  Utilizing Chemical Vapor Deposition (CVD) for ...   \n",
       "46      Yes  2023  Maximizing Shale & Tight assets value by combi...   \n",
       "\n",
       "                   Abstract Text (limit to 250 words)  \n",
       "2   Chevron aims to leverage our strengths to deli...  \n",
       "7   Chevron aims to leverage our strengths to deli...  \n",
       "35  Optimizing reactor throughput and conversion i...  \n",
       "37  While Chevron has made significant strides in ...  \n",
       "46  The Shale and Tight Asset Class (STAC) will co...  "
      ]
     },
     "execution_count": 36,
     "metadata": {},
     "output_type": "execute_result"
    }
   ],
   "source": [
    "df.head()"
   ]
  },
  {
   "cell_type": "markdown",
   "metadata": {},
   "source": [
    "## Write out to file"
   ]
  },
  {
   "cell_type": "code",
   "execution_count": null,
   "metadata": {},
   "outputs": [],
   "source": [
    "df.to_csv(\"C:\\\\Users\\\\hlmq\\\\OneDrive - Chevron\\\\Desktop\\\\GLFFeedbacktoMKW_clean_aspects.csv\")"
   ]
  },
  {
   "cell_type": "code",
   "execution_count": null,
   "metadata": {},
   "outputs": [],
   "source": []
  },
  {
   "cell_type": "markdown",
   "metadata": {},
   "source": [
    "## Appendix"
   ]
  },
  {
   "cell_type": "code",
   "execution_count": null,
   "metadata": {},
   "outputs": [],
   "source": [
    "prompt_text = f\"Perform aspect based sentiment analysis on the text below. - Provide overall sentiment score between 0 to 5 for the review- Provide a sentiment polarity score between 0 to 5 for each aspect  Example Text: • Culture: I believe our culture is positive, energized and more inclusive compared to 1991 when I started. We are all much more informed by leaders and we as leaders have taken the challenge of including our people in many discussions to enhance engagement. My strong belief is informed and educated workforce will support changes that they suggest for brighter future. • Communication: While the communication has improved, it could be more transparent, especially regarding company goals and decisions that impacts people. I do sense that our employees are worried and nervous about future of energy and their future in Chevron. This amplifies in smaller BUs, i.e., Chevron Oronite where the employees are constantly asking about their BUs role in energy transition, or in smaller refineries vs. larger sites. • OPG: We are on the right path. I believe the growing pains are over, and we are getting organized through both strategy setting and business planning. The area that we need to pay attention is how do we develop cross functional leaders for OPG. We may all be under OPG umbrella but our PDCs still suffer from similarity bias. • Benchmarking and competitive performance: We have strong processes to utilize the benchmarking data, create gap closure strategies, develop strategy to action lists. From my refining days and now in chemicals, we usually fall short on actions to results and keeping our teams focused and accountable on gap closure results. That is the focus for me to ensure we move from the lists of actions to actively prioritizing actions and delivering results.  • Digitalization and future of AI: Our teams are eager to change the way we work. The challenge is to create AI and digital tools we need time and resources to see the impact on changing the way we work. Example Output:    Overall sentiment score: 3.2Aspects with sentiment polarity score:- Culture: 5  - Communication: 3   - OPG: 3   - Competitive Performance: 2   - Digitalization: 3  /nTEXT:  {observation}\""
   ]
  },
  {
   "cell_type": "code",
   "execution_count": null,
   "metadata": {},
   "outputs": [],
   "source": [
    "response = openai.Completion.create(\n",
    "  engine=\"gpt-35-turbo\",\n",
    "  prompt=prompt_text,\n",
    "  temperature=0,\n",
    "  max_tokens=100,\n",
    "  top_p=1,\n",
    "  frequency_penalty=0,\n",
    "  presence_penalty=0,\n",
    "  stop=None)"
   ]
  },
  {
   "cell_type": "code",
   "execution_count": null,
   "metadata": {},
   "outputs": [],
   "source": [
    "print(response['choices'][0]['text'])"
   ]
  },
  {
   "cell_type": "code",
   "execution_count": null,
   "metadata": {},
   "outputs": [],
   "source": []
  }
 ],
 "metadata": {
  "kernelspec": {
   "display_name": "nlp_testing",
   "language": "python",
   "name": "python3"
  },
  "language_info": {
   "codemirror_mode": {
    "name": "ipython",
    "version": 3
   },
   "file_extension": ".py",
   "mimetype": "text/x-python",
   "name": "python",
   "nbconvert_exporter": "python",
   "pygments_lexer": "ipython3",
   "version": "3.9.5"
  }
 },
 "nbformat": 4,
 "nbformat_minor": 2
}
