{
 "cells": [
  {
   "cell_type": "code",
   "execution_count": 2,
   "metadata": {},
   "outputs": [],
   "source": [
    "import os\n",
    "import openai\n",
    "openai.api_type = \"azure\"\n",
    "openai.api_base = \"https://crrc-t170-cvx-france.openai.azure.com/\"\n",
    "openai.api_version = \"2023-09-15-preview\"\n",
    "openai.api_key = os.getenv(\"OPENAI_API_KEY\")\n",
    "openai.api_key = \"8a4a2a3d7af2430188ee31adcc298c45\"\n",
    "\n",
    "import pandas as pd"
   ]
  },
  {
   "cell_type": "code",
   "execution_count": 105,
   "metadata": {},
   "outputs": [],
   "source": [
    "filepath = \"C:\\\\Users\\\\hlmq\\\\OneDrive - Chevron\\\\Desktop\\\\Projects\\\\Tech Abstracts\\\\data\\\\\"\n",
    "filename = \"2023 Tech Showcase Abstracts - with flags.csv\"\n",
    "\n",
    "df = pd.read_csv(str(filepath)+str(filename))"
   ]
  },
  {
   "cell_type": "code",
   "execution_count": 106,
   "metadata": {},
   "outputs": [
    {
     "data": {
      "text/html": [
       "<div>\n",
       "<style scoped>\n",
       "    .dataframe tbody tr th:only-of-type {\n",
       "        vertical-align: middle;\n",
       "    }\n",
       "\n",
       "    .dataframe tbody tr th {\n",
       "        vertical-align: top;\n",
       "    }\n",
       "\n",
       "    .dataframe thead th {\n",
       "        text-align: right;\n",
       "    }\n",
       "</style>\n",
       "<table border=\"1\" class=\"dataframe\">\n",
       "  <thead>\n",
       "    <tr style=\"text-align: right;\">\n",
       "      <th></th>\n",
       "      <th>Selected</th>\n",
       "      <th>year</th>\n",
       "      <th>Abstract Title</th>\n",
       "      <th>Abstract Text (limit to 250 words)</th>\n",
       "    </tr>\n",
       "  </thead>\n",
       "  <tbody>\n",
       "    <tr>\n",
       "      <th>0</th>\n",
       "      <td>Yes</td>\n",
       "      <td>2023</td>\n",
       "      <td>Scaling Aircraft-Based Methane Detection acros...</td>\n",
       "      <td>Methane emission reductions from the oil and g...</td>\n",
       "    </tr>\n",
       "    <tr>\n",
       "      <th>1</th>\n",
       "      <td>NaN</td>\n",
       "      <td>2023</td>\n",
       "      <td>Development and Deployment of Chevron's Fractu...</td>\n",
       "      <td>Embedded Discrete Fracture Modeling (EDFM) is ...</td>\n",
       "    </tr>\n",
       "    <tr>\n",
       "      <th>2</th>\n",
       "      <td>yes</td>\n",
       "      <td>2023</td>\n",
       "      <td>Hydrogen Must Win Technology Challenge linkage...</td>\n",
       "      <td>Chevron aims to leverage our strengths to deli...</td>\n",
       "    </tr>\n",
       "    <tr>\n",
       "      <th>3</th>\n",
       "      <td>Yes</td>\n",
       "      <td>2023</td>\n",
       "      <td>Leveraging the Digital Oilfield: Optimizing Op...</td>\n",
       "      <td>The Tech Center, in collaboration with PE and ...</td>\n",
       "    </tr>\n",
       "    <tr>\n",
       "      <th>4</th>\n",
       "      <td>NaN</td>\n",
       "      <td>2023</td>\n",
       "      <td>Leveraging Technology to Improve Hydraulic Fra...</td>\n",
       "      <td>Development and deployment of fit-for-purpose,...</td>\n",
       "    </tr>\n",
       "  </tbody>\n",
       "</table>\n",
       "</div>"
      ],
      "text/plain": [
       "  Selected  year                                     Abstract Title  \\\n",
       "0      Yes  2023  Scaling Aircraft-Based Methane Detection acros...   \n",
       "1      NaN  2023  Development and Deployment of Chevron's Fractu...   \n",
       "2      yes  2023  Hydrogen Must Win Technology Challenge linkage...   \n",
       "3      Yes  2023  Leveraging the Digital Oilfield: Optimizing Op...   \n",
       "4      NaN  2023  Leveraging Technology to Improve Hydraulic Fra...   \n",
       "\n",
       "                  Abstract Text (limit to 250 words)  \n",
       "0  Methane emission reductions from the oil and g...  \n",
       "1  Embedded Discrete Fracture Modeling (EDFM) is ...  \n",
       "2  Chevron aims to leverage our strengths to deli...  \n",
       "3  The Tech Center, in collaboration with PE and ...  \n",
       "4  Development and deployment of fit-for-purpose,...  "
      ]
     },
     "execution_count": 106,
     "metadata": {},
     "output_type": "execute_result"
    }
   ],
   "source": [
    "df.head()"
   ]
  },
  {
   "cell_type": "code",
   "execution_count": 107,
   "metadata": {},
   "outputs": [
    {
     "name": "stdout",
     "output_type": "stream",
     "text": [
      "5\n"
     ]
    }
   ],
   "source": [
    "df = df.iloc[20:25]\n",
    "print(len(df))"
   ]
  },
  {
   "cell_type": "code",
   "execution_count": 111,
   "metadata": {},
   "outputs": [],
   "source": [
    "results = []\n",
    "\n",
    "# 'Abstract Text (limit to 250 words)'\n",
    "\n",
    "observation = ', '.join(df['Abstract Text (limit to 250 words)'].tolist())\n",
    "prompt_text = f\"Context: {observation}. Capture the main idea of these documents in as few words as possible.  MAXIMUM 6 words. `DO NOT PROVIDE ANY ADDITIONAL EXPLANATION OR DETAILS`. example\\n\\n Subsea Structure Characterization\"\n",
    "\n",
    "response = openai.Completion.create(\n",
    "    engine=\"gpt-35-turbo\",\n",
    "    prompt=prompt_text,\n",
    "    temperature=0,\n",
    "    max_tokens=9,\n",
    "    top_p=1,\n",
    "    frequency_penalty=0,\n",
    "    presence_penalty=0,\n",
    "    stop=None)\n",
    "\n",
    "results.append(response['choices'][0]['text'])"
   ]
  },
  {
   "cell_type": "code",
   "execution_count": 112,
   "metadata": {},
   "outputs": [
    {
     "data": {
      "text/plain": [
       "'Inspection of subsea structures is traditionally conducted by inspectors on a vessel directing the Remotely Operated Vehicle (ROV) to pertinent subsea equipment whilst recording video and findings into an offshore database. This method has not seen any innovation for the past 30 years and is time consuming, costly and lacks repeatability.  Fast Digital Subsea Inspection (FDSI) is not only a technology step change but fundamentally changes the workflows of our Systems of Record; unlocking the ability to incorporate emerging technologies such as Autonomous Underwater Vehicles (AUV) and ultra-high-resolution stereo-camera systems to automate the process and identify anomalies in real-time. FDSI reduces the time spent offshore by ~30%, thereby cutting carbon emissions of vessel operation and reducing OPEX. \\n\\nThis solution has the potential to unlock other emerging technologies such as: Digital Twins, Artificial Intelligence, and resident autonomous operations leading to increased operational efficiency and fast, intelligent decision making on Asset Integrity. \\nEquipment trials were conducted at GOM Tahiti in 2021. A further proof of concept executed in parallel, collaborating with the Surface Digital Platform, demonstrated the offline inspection capability by implementing data delivery directly onto the Chevron’s Azure Tenant for visualization by our SaaS asset integrity management application. \\n\\nThe technology was then deployed in 2022 at scale to complete the annual subsea inspection campaign of 400 structures at the Gorgon, Jansz and Wheatstone fields offshore Australia. The methodology realized 50% reduction in vessel days amounting to $4MM. This work has been conducted in collaboration between FDS, SDP, APPS, ABU and GOMBU. The next campaign is scheduled at Jack St Malo, August 2023.\\n, Subsea cables and umbilicals may be subjected to significant environmental loads that threaten their stability and functionality.  This could result in serious loss of power and shut down the facility resulting in millions to billions of dollars losses.  Traditional stabilization methods are very expensive and mostly require burial of cable with rocks dumping leaving no accessibility to monitor their integrity.   The Artificial Cable Trench (ACT) is an innovative Chevron patented technology being developed to reduce cost, environmental, and schedule impacts of unstable pipelines, umbilicals, cables, and other lightweight tubulars.  The ACT is a seabed stabilization and shore crossing creative solution that significantly attenuates the impact of hydrodynamic loads induced by waves and currents.  ACT also provides easy accessibility to enable integrity monitoring of the cables or pipelines.  The ACT technology significantly reduces CAPEX by up to $40MM per project and can optimize project schedule by combining installation of both ACT and cables/umbilicals during the same installation period in lieu of post stabilization with the traditional rock dumping method. ACT is a scalable technology that will benefit all Chevron business units that require installation of offshore power and umbilical cables or light weight tubular systems. , Winning in the lower carbon future means staying ahead of the competition. The competition in the new energies market (CCUS, Hydrogen, Offsets, and other Emerging Technologies) is emerging from many different players from a wide variety of industry sectors, including the traditional oil and gas companies, industrial air companies, utility companies, renewable energy developers, start-ups, and more. The current challenges faced by CNE analysts include the overwhelming amount of information to sift through and the difficulty in finding relevant data in a timely manner. To address this, the CNE Digital Team collaborated with CTC and SPD to design and implement a product that allows an interactive ChatGPT-like experience with the competition dataset. First, data sources are gathered from Chevron’s internal documents and publicly available external information relating to new energies competitors, including news feed, press releases, financial information, strategy documents, earnings transcripts, and other noteworthy publications. Second, the DEUCES solution, developed by CTC’s Innovation and Commercialization group, is used to search for relevant documents that best correspond to the user-input prompts and provide a response based on summarized content. In addition, a user interface (UI) features information about the company’s profile, its low-carbon strategy, and recent activities. The implementation of this innovative digital solution is expected to improve analyst efficiency (by 70 to 90 percent), enhance low carbon market intelligence, and enable more informed decisions to accelerate Chevron’s low carbon businesses. In the future, this technology can be scaled to other use cases such as identifying potential customers for low carbon products and helping the competitive intelligence analysis in SPD.  , In every part of our business, there is key real-time data that is not used in analysis or decision making because it is too expensive to send the data back to a central repository. One cause of this expense is due to wireless communication costs related to data transmission costs. Novel approaches to data compression can be utilized to reduce the size and frequency of data transmission, minimizing communication costs, and opening new sources of near-real-time data. \\n\\nThe Intelligent Data Compression project is currently developing data analytics, compression algorithms, and workflow processes to utilize edge compute devices to manage streaming data while maintaining critical data points to increase data content and fidelity in operational decisions. Lab results show 80+% compression in process values, drastically reducing data transmission costs that are scalable across all asset classes., BPAT is a first-of-its-kind, cross-functional data engine. It interconnects internal and external databases (Energy Comp., SAP, JDE, MIDAS, Solomon, WMac, Platts) to identify value-add opportunities. As of June 2023, BPAT covers hundreds of operated and NOJV fields across all asset classes in 13 SBUs. \\n\\nBPAT is the only solution that identifies actionable value-add opportunities across the value chain for any given location or asset class in a cross-functional fashion, calculating the dynamic interplay of all Competitive Performance metrics. After all, not all metrics are equally relevant everywhere. Solomon and WoodMac have stated that BPAT is a corporate competitive advantage, remarking that they had never seen a product so comprehensive and detailed across our rivals (Exxon, BP, Shell).\\n\\nBy modeling the flow of every dollar and every BOE, BPAT dissects how well our products are created, where their revenue comes from, where their costs go, and how much is pocketed at the end, for any location or asset class.\\n\\nHowever, Chevron’s data is not stellar. From the decentralization of Systems-of-Records (SoRs) to diverse accounting practices and local customizations, collectively our data is a mosaic of dozens of siloed, incompatible sources. To solve this 100-year-old problem, a novel data architecture was developed in partnership with 200+ SMEs globally. Solutions include engineering proxies to manage data gaps, a universal cross-SoR asset hierarchy, re-categorizing costs and LPO per Solomon, and a ‘cross-pollination’ of benchmarking data across asset classes.\\n\\nThe model can be found at go.chevron.com/BPAT.\\n'"
      ]
     },
     "execution_count": 112,
     "metadata": {},
     "output_type": "execute_result"
    }
   ],
   "source": [
    "observation"
   ]
  },
  {
   "cell_type": "code",
   "execution_count": 113,
   "metadata": {},
   "outputs": [
    {
     "data": {
      "text/plain": [
       "[': Fast Digital Inspection\\n\\n1. Fast Digital']"
      ]
     },
     "execution_count": 113,
     "metadata": {},
     "output_type": "execute_result"
    }
   ],
   "source": [
    "results"
   ]
  },
  {
   "cell_type": "code",
   "execution_count": null,
   "metadata": {},
   "outputs": [],
   "source": [
    "df['Summary'] = results"
   ]
  },
  {
   "cell_type": "markdown",
   "metadata": {},
   "source": [
    "## Write out to file"
   ]
  },
  {
   "cell_type": "code",
   "execution_count": null,
   "metadata": {},
   "outputs": [],
   "source": [
    "df.to_csv(\"C:\\\\Users\\\\hlmq\\\\OneDrive - Chevron\\\\Desktop\\\\GLFFeedbacktoMKW_clean_aspects.csv\")"
   ]
  },
  {
   "cell_type": "code",
   "execution_count": null,
   "metadata": {},
   "outputs": [],
   "source": []
  },
  {
   "cell_type": "markdown",
   "metadata": {},
   "source": [
    "## Appendix"
   ]
  },
  {
   "cell_type": "code",
   "execution_count": null,
   "metadata": {},
   "outputs": [],
   "source": [
    "prompt_text = f\"Perform aspect based sentiment analysis on the text below. - Provide overall sentiment score between 0 to 5 for the review- Provide a sentiment polarity score between 0 to 5 for each aspect  Example Text: • Culture: I believe our culture is positive, energized and more inclusive compared to 1991 when I started. We are all much more informed by leaders and we as leaders have taken the challenge of including our people in many discussions to enhance engagement. My strong belief is informed and educated workforce will support changes that they suggest for brighter future. • Communication: While the communication has improved, it could be more transparent, especially regarding company goals and decisions that impacts people. I do sense that our employees are worried and nervous about future of energy and their future in Chevron. This amplifies in smaller BUs, i.e., Chevron Oronite where the employees are constantly asking about their BUs role in energy transition, or in smaller refineries vs. larger sites. • OPG: We are on the right path. I believe the growing pains are over, and we are getting organized through both strategy setting and business planning. The area that we need to pay attention is how do we develop cross functional leaders for OPG. We may all be under OPG umbrella but our PDCs still suffer from similarity bias. • Benchmarking and competitive performance: We have strong processes to utilize the benchmarking data, create gap closure strategies, develop strategy to action lists. From my refining days and now in chemicals, we usually fall short on actions to results and keeping our teams focused and accountable on gap closure results. That is the focus for me to ensure we move from the lists of actions to actively prioritizing actions and delivering results.  • Digitalization and future of AI: Our teams are eager to change the way we work. The challenge is to create AI and digital tools we need time and resources to see the impact on changing the way we work. Example Output:    Overall sentiment score: 3.2Aspects with sentiment polarity score:- Culture: 5  - Communication: 3   - OPG: 3   - Competitive Performance: 2   - Digitalization: 3  /nTEXT:  {observation}\""
   ]
  },
  {
   "cell_type": "code",
   "execution_count": null,
   "metadata": {},
   "outputs": [],
   "source": [
    "response = openai.Completion.create(\n",
    "  engine=\"gpt-35-turbo\",\n",
    "  prompt=prompt_text,\n",
    "  temperature=0,\n",
    "  max_tokens=100,\n",
    "  top_p=1,\n",
    "  frequency_penalty=0,\n",
    "  presence_penalty=0,\n",
    "  stop=None)"
   ]
  },
  {
   "cell_type": "code",
   "execution_count": null,
   "metadata": {},
   "outputs": [],
   "source": [
    "print(response['choices'][0]['text'])"
   ]
  },
  {
   "cell_type": "code",
   "execution_count": null,
   "metadata": {},
   "outputs": [],
   "source": []
  }
 ],
 "metadata": {
  "kernelspec": {
   "display_name": "nlp_testing",
   "language": "python",
   "name": "python3"
  },
  "language_info": {
   "codemirror_mode": {
    "name": "ipython",
    "version": 3
   },
   "file_extension": ".py",
   "mimetype": "text/x-python",
   "name": "python",
   "nbconvert_exporter": "python",
   "pygments_lexer": "ipython3",
   "version": "3.9.5"
  }
 },
 "nbformat": 4,
 "nbformat_minor": 2
}
